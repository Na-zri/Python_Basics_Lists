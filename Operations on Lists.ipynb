{
 "cells": [
  {
   "cell_type": "code",
   "execution_count": null,
   "id": "apparent-sociology",
   "metadata": {},
   "outputs": [],
   "source": [
    "#Here we discuss about the various operations that we can do on the lists\n"
   ]
  },
  {
   "cell_type": "code",
   "execution_count": 2,
   "id": "surprising-letters",
   "metadata": {},
   "outputs": [
    {
     "name": "stdout",
     "output_type": "stream",
     "text": [
      "[0, 0, 0, 0, 0, 0, 0, 0, 0, 0]\n"
     ]
    }
   ],
   "source": [
    "Z = [0]* 10 #if we want to repeatedly want an element in your list you can specify by an asterisk followed by the count\n",
    "print(Z)"
   ]
  },
  {
   "cell_type": "code",
   "execution_count": 3,
   "id": "likely-acoustic",
   "metadata": {},
   "outputs": [
    {
     "name": "stdout",
     "output_type": "stream",
     "text": [
      "[1, 2, 3, 4, 5, 'a', 'b', 'c', 'd', 'e']\n"
     ]
    }
   ],
   "source": [
    "#concatenation of two lists\n",
    "list1 = [1,2,3,4,5]\n",
    "list2 = ['a', 'b','c','d','e']\n",
    "conc = list1 + list2\n",
    "print(conc)"
   ]
  },
  {
   "cell_type": "code",
   "execution_count": 4,
   "id": "artificial-chapter",
   "metadata": {},
   "outputs": [
    {
     "name": "stdout",
     "output_type": "stream",
     "text": [
      "['T', 'h', 'i', 's', ' ', 'i', 's', ' ', 'm', 'y', ' ', 'n', 'a', 'm', 'e']\n"
     ]
    }
   ],
   "source": [
    "#unpacking , ie, converts each element of a string into single elements in a list\n",
    "var = list(\"This is my name\")\n",
    "print(var)"
   ]
  },
  {
   "cell_type": "code",
   "execution_count": 6,
   "id": "bibliographic-start",
   "metadata": {},
   "outputs": [
    {
     "name": "stdout",
     "output_type": "stream",
     "text": [
      "[1, 2, 3, 4, 5]\n"
     ]
    }
   ],
   "source": [
    "print(list1)"
   ]
  },
  {
   "cell_type": "code",
   "execution_count": 7,
   "id": "cubic-humanity",
   "metadata": {},
   "outputs": [
    {
     "name": "stdout",
     "output_type": "stream",
     "text": [
      "1\n",
      "[2, 3, 4, 5]\n"
     ]
    }
   ],
   "source": [
    "#if we want to save any element in one variable and others in a list \n",
    "#var_name, *List_name = prev list\n",
    "var1, *other = list1\n",
    "print(var1)\n",
    "print(other)"
   ]
  },
  {
   "cell_type": "code",
   "execution_count": null,
   "id": "separate-situation",
   "metadata": {},
   "outputs": [],
   "source": [
    "#Methods in list\n"
   ]
  },
  {
   "cell_type": "code",
   "execution_count": 8,
   "id": "hazardous-malawi",
   "metadata": {},
   "outputs": [
    {
     "name": "stdout",
     "output_type": "stream",
     "text": [
      "[1, 2, 3, 4, 5, 8]\n"
     ]
    }
   ],
   "source": [
    "#Add elements at the end of the list - APPEND\n",
    "list1.append(8)\n",
    "print(list1)"
   ]
  },
  {
   "cell_type": "code",
   "execution_count": 9,
   "id": "disabled-level",
   "metadata": {},
   "outputs": [
    {
     "name": "stdout",
     "output_type": "stream",
     "text": [
      "[1, 2, 3, 4, 5, 8, 'a', 'b', 'c', 'd', 'e']\n"
     ]
    }
   ],
   "source": [
    "#Add one list with another one - EXTEND\n",
    "list1.extend(list2)\n",
    "print(list1)"
   ]
  },
  {
   "cell_type": "code",
   "execution_count": 10,
   "id": "endless-flavor",
   "metadata": {},
   "outputs": [
    {
     "name": "stdout",
     "output_type": "stream",
     "text": [
      "[1, 2, 3, 4, 5, 8, 'Name', 'a', 'b', 'c', 'd', 'e']\n"
     ]
    }
   ],
   "source": [
    "#Add an element in between - INSERT\n",
    "list1.insert(6, \"Name\")#6 is the position to which name is to added\n",
    "print(list1)"
   ]
  },
  {
   "cell_type": "code",
   "execution_count": 11,
   "id": "anticipated-maryland",
   "metadata": {},
   "outputs": [
    {
     "name": "stdout",
     "output_type": "stream",
     "text": [
      "[1, 2, 3, 4, 5, 8, 'Name', 'a', 2, 'b', 'c', 'd', 'e']\n"
     ]
    }
   ],
   "source": [
    "list1.insert(8, 2)\n",
    "print(list1)"
   ]
  },
  {
   "cell_type": "code",
   "execution_count": 12,
   "id": "structured-thing",
   "metadata": {},
   "outputs": [
    {
     "name": "stdout",
     "output_type": "stream",
     "text": [
      "[1, 3, 4, 5, 8, 'Name', 'a', 2, 'b', 'c', 'd', 'e']\n"
     ]
    }
   ],
   "source": [
    "#Remove an element from the list - REMOVE \n",
    "list1.remove(2)\n",
    "print(list1) #note that only first occurence of the element is removed"
   ]
  },
  {
   "cell_type": "code",
   "execution_count": 13,
   "id": "killing-biology",
   "metadata": {},
   "outputs": [
    {
     "name": "stdout",
     "output_type": "stream",
     "text": [
      "['a', 'b', 'e', 'h', 'i', 't', 'y']\n"
     ]
    }
   ],
   "source": [
    "#sort elements in a list - SORT\n",
    "list3 = ['a','h', 'y', 'i', 't', 'b', 'e'] #note that these are in jumbeled order\n",
    "list3.sort()\n",
    "print(list3)"
   ]
  },
  {
   "cell_type": "code",
   "execution_count": null,
   "id": "worst-world",
   "metadata": {},
   "outputs": [],
   "source": []
  }
 ],
 "metadata": {
  "kernelspec": {
   "display_name": "Python 3",
   "language": "python",
   "name": "python3"
  },
  "language_info": {
   "codemirror_mode": {
    "name": "ipython",
    "version": 3
   },
   "file_extension": ".py",
   "mimetype": "text/x-python",
   "name": "python",
   "nbconvert_exporter": "python",
   "pygments_lexer": "ipython3",
   "version": "3.6.13"
  }
 },
 "nbformat": 4,
 "nbformat_minor": 5
}
