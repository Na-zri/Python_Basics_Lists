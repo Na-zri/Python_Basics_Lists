{
 "cells": [
  {
   "cell_type": "code",
   "execution_count": 1,
   "id": "studied-lithuania",
   "metadata": {},
   "outputs": [
    {
     "name": "stdout",
     "output_type": "stream",
     "text": [
      "['a', 'b', 'c', 'd']\n"
     ]
    }
   ],
   "source": [
    "letter = ['a', 'b','c', 'd']\n",
    "print(letter)\n"
   ]
  },
  {
   "cell_type": "code",
   "execution_count": 2,
   "id": "floating-original",
   "metadata": {},
   "outputs": [
    {
     "name": "stdout",
     "output_type": "stream",
     "text": [
      "['simple', 'hello', 1, 'hi', 'bye', 2]\n"
     ]
    }
   ],
   "source": [
    "mix = [\"simple\", \"hello\", 1 ,\"hi\", \"bye\" , 2] #list containing different elements\n",
    "print(mix)\n"
   ]
  },
  {
   "cell_type": "code",
   "execution_count": 3,
   "id": "identical-transition",
   "metadata": {},
   "outputs": [
    {
     "data": {
      "text/plain": [
       "1"
      ]
     },
     "execution_count": 3,
     "metadata": {},
     "output_type": "execute_result"
    }
   ],
   "source": [
    "mix[2] #prints the second indexed element\n"
   ]
  },
  {
   "cell_type": "code",
   "execution_count": 4,
   "id": "corresponding-quilt",
   "metadata": {},
   "outputs": [
    {
     "data": {
      "text/plain": [
       "['simple', 1, 'bye']"
      ]
     },
     "execution_count": 4,
     "metadata": {},
     "output_type": "execute_result"
    }
   ],
   "source": [
    "mix[::2] #print the second elements in the list"
   ]
  },
  {
   "cell_type": "code",
   "execution_count": 5,
   "id": "outside-uruguay",
   "metadata": {},
   "outputs": [
    {
     "data": {
      "text/plain": [
       "'hi'"
      ]
     },
     "execution_count": 5,
     "metadata": {},
     "output_type": "execute_result"
    }
   ],
   "source": [
    "mix[-3] #prints the third last element"
   ]
  },
  {
   "cell_type": "code",
   "execution_count": 6,
   "id": "functioning-duplicate",
   "metadata": {},
   "outputs": [
    {
     "data": {
      "text/plain": [
       "[1]"
      ]
     },
     "execution_count": 6,
     "metadata": {},
     "output_type": "execute_result"
    }
   ],
   "source": [
    "mix[2::4] #prints the list elements from 2 to 4 th index,including index 2 and excluding 4"
   ]
  },
  {
   "cell_type": "code",
   "execution_count": 7,
   "id": "refined-encyclopedia",
   "metadata": {},
   "outputs": [
    {
     "data": {
      "text/plain": [
       "[2, 'bye', 'hi', 1, 'hello', 'simple']"
      ]
     },
     "execution_count": 7,
     "metadata": {},
     "output_type": "execute_result"
    }
   ],
   "source": [
    "mix[::-1] #prints the list in reverse order"
   ]
  },
  {
   "cell_type": "code",
   "execution_count": null,
   "id": "olympic-clearance",
   "metadata": {},
   "outputs": [],
   "source": []
  }
 ],
 "metadata": {
  "kernelspec": {
   "display_name": "Python 3",
   "language": "python",
   "name": "python3"
  },
  "language_info": {
   "codemirror_mode": {
    "name": "ipython",
    "version": 3
   },
   "file_extension": ".py",
   "mimetype": "text/x-python",
   "name": "python",
   "nbconvert_exporter": "python",
   "pygments_lexer": "ipython3",
   "version": "3.6.13"
  }
 },
 "nbformat": 4,
 "nbformat_minor": 5
}
